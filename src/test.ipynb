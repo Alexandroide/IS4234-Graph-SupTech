{
 "cells": [
  {
   "cell_type": "code",
   "execution_count": 14,
   "metadata": {},
   "outputs": [],
   "source": [
    "import json\n",
    "import networkx as nx\n",
    "import matplotlib.pyplot as plt\n",
    "from typing import Dict, Any, List\n",
    "\n",
    "\n",
    "class GraphAnalyzerCIDM:\n",
    "    def __init__(self, graph_file: str) -> None:\n",
    "        \"\"\"\n",
    "        Initialize the graph from a JSON file.\n",
    "\n",
    "        Parameters\n",
    "        ----------\n",
    "        graph_file : str\n",
    "            Path to the JSON file containing the graph data.\n",
    "        \"\"\"\n",
    "        self.graph_file: str = graph_file\n",
    "        self.G: nx.DiGraph = nx.DiGraph()\n",
    "        self.load_graph()\n",
    "        \n",
    "    def load_graph(self) -> None:\n",
    "        \"\"\"Load graph data from JSON and create a NetworkX graph.\"\"\"\n",
    "        with open(self.graph_file, \"r\") as f:\n",
    "            graph_data: Dict[str, Any] = json.load(f)\n",
    "        \n",
    "        # Add nodes with weights\n",
    "        for node_id, node_data in graph_data.items():\n",
    "            self.G.add_node(node_id, **node_data[\"weights\"])\n",
    "        \n",
    "        # Add edges with operational reliance as weight\n",
    "        for node_id, node_data in graph_data.items():\n",
    "            for target_id, edge_weight in node_data[\"edges\"].items():\n",
    "                self.G.add_edge(node_id, target_id, weight=edge_weight)\n",
    "    \n",
    "    def visualize(\n",
    "        self,\n",
    "        min_size: int = 100,\n",
    "        max_size: int = 2000,\n",
    "        edge_scale: float = 10.0,\n",
    "        layout: str = \"spring\",\n",
    "        seed: int = 42\n",
    "    ) -> None:\n",
    "        \"\"\"Visualize the graph with node sizes, colors, and edge widths.\"\"\"\n",
    "        globals_list: List[float] = [self.G.nodes[n][\"global\"] for n in self.G.nodes]\n",
    "        min_val, max_val = min(globals_list), max(globals_list)\n",
    "        node_sizes = [\n",
    "            min_size + (val - min_val) / (max_val - min_val) * (max_size - min_size)\n",
    "            for val in globals_list\n",
    "        ]\n",
    "        \n",
    "        node_colors: List[float] = [self.G.nodes[n][\"societal\"] for n in self.G.nodes]\n",
    "        edge_widths: List[float] = [self.G[u][v][\"weight\"] * edge_scale for u, v in self.G.edges]\n",
    "        \n",
    "        # Choose layout\n",
    "        if layout == \"spring\":\n",
    "            pos = nx.spring_layout(self.G, k=0.5, seed=seed)\n",
    "        elif layout == \"circular\":\n",
    "            pos = nx.circular_layout(self.G)\n",
    "        elif layout == \"kamada_kawai\":\n",
    "            pos = nx.kamada_kawai_layout(self.G)\n",
    "        else:\n",
    "            raise ValueError(\"Unsupported layout type\")\n",
    "        \n",
    "        # Draw graph\n",
    "        plt.figure(figsize=(12, 12))\n",
    "        nx.draw_networkx_nodes(\n",
    "            self.G, pos, node_size=node_sizes, node_color=node_colors,\n",
    "            cmap=plt.cm.viridis, alpha=0.8\n",
    "        )\n",
    "        nx.draw_networkx_edges(\n",
    "            self.G, pos, width=edge_widths, alpha=0.6,\n",
    "            arrowstyle=\"-|>\", arrowsize=15\n",
    "        )\n",
    "        nx.draw_networkx_labels(self.G, pos, font_size=8, font_color=\"black\")\n",
    "        plt.title(\n",
    "            \"Company Dependency Graph\\n\"\n",
    "            \"Node size = Global criticality, Edge width = Operational reliance\"\n",
    "        )\n",
    "        plt.colorbar(\n",
    "            plt.cm.ScalarMappable(cmap=plt.cm.viridis),\n",
    "            label=\"Societal criticality\"\n",
    "        )\n",
    "        plt.axis(\"off\")\n",
    "        plt.show()\n",
    "    \n",
    "    def centrality(self) -> Dict[str, float]:\n",
    "        \"\"\"Compute degree centrality.\"\"\"\n",
    "        return nx.degree_centrality(self.G)\n",
    "    \n",
    "    def shortest_path(self, source: str, target: str) -> List[str]:\n",
    "        \"\"\"Compute shortest path from source to target (weighted by edge weight).\"\"\"\n",
    "        return nx.shortest_path(self.G, source=source, target=target, weight='weight')\n",
    "    \n",
    "    def summary(self) -> None:\n",
    "        \"\"\"Print a quick summary of the graph.\"\"\"\n",
    "        print(f\"Nodes: {self.G.number_of_nodes()}, Edges: {self.G.number_of_edges()}\")\n",
    "        print(\"Nodes with attributes:\", list(self.G.nodes(data=True))[:5])\n",
    "        print(\"Edges with attributes:\", list(self.G.edges(data=True))[:5])"
   ]
  },
  {
   "cell_type": "code",
   "execution_count": 15,
   "metadata": {},
   "outputs": [],
   "source": [
    "# Create analyzer instance\n",
    "analyzer = GraphAnalyzerCIDM(\"../data/graph_data.json\")"
   ]
  },
  {
   "cell_type": "code",
   "execution_count": 16,
   "metadata": {},
   "outputs": [
    {
     "name": "stdout",
     "output_type": "stream",
     "text": [
      "Nodes: 38, Edges: 60\n",
      "Nodes with attributes: [('COMP001', {'societal': 71.46, 'economic': 43033.92, 'global': 19404.57}), ('COMP002', {'societal': 40.0, 'economic': 46860.86, 'global': 21109.39}), ('COMP003', {'societal': 80.19, 'economic': 37485.12, 'global': 16912.41}), ('COMP004', {'societal': 86.02, 'economic': 51914.18, 'global': 23408.69}), ('COMP005', {'societal': 76.67, 'economic': 55180.58, 'global': 24873.43})]\n",
      "Edges with attributes: [('COMP001', 'SUP001', {'weight': 0.37}), ('COMP001', 'SUP002', {'weight': 0.25}), ('COMP001', 'SUP003', {'weight': 0.183}), ('COMP001', 'SUP004', {'weight': 0.265}), ('COMP001', 'SUP005', {'weight': 0.223})]\n"
     ]
    }
   ],
   "source": [
    "analyzer.summary()"
   ]
  },
  {
   "cell_type": "code",
   "execution_count": 18,
   "metadata": {},
   "outputs": [
    {
     "name": "stdout",
     "output_type": "stream",
     "text": [
      "{'COMP001': 0.1891891891891892, 'COMP002': 0.10810810810810811, 'COMP003': 0.0, 'COMP004': 0.10810810810810811, 'COMP005': 0.08108108108108109, 'COMP006': 0.08108108108108109, 'COMP007': 0.05405405405405406, 'COMP008': 0.08108108108108109, 'COMP009': 0.0, 'COMP010': 0.10810810810810811, 'COMP011': 0.08108108108108109, 'COMP012': 0.10810810810810811, 'COMP013': 0.10810810810810811, 'COMP014': 0.10810810810810811, 'COMP015': 0.16216216216216217, 'COMP016': 0.02702702702702703, 'COMP017': 0.08108108108108109, 'COMP018': 0.05405405405405406, 'COMP019': 0.05405405405405406, 'COMP020': 0.02702702702702703, 'SUP001': 0.13513513513513514, 'SUP002': 0.10810810810810811, 'SUP003': 0.10810810810810811, 'SUP004': 0.02702702702702703, 'SUP005': 0.10810810810810811, 'SUP010': 0.13513513513513514, 'SUP016': 0.10810810810810811, 'SUP017': 0.08108108108108109, 'SUP009': 0.08108108108108109, 'SUP020': 0.10810810810810811, 'SUP006': 0.08108108108108109, 'SUP011': 0.05405405405405406, 'SUP012': 0.13513513513513514, 'SUP013': 0.10810810810810811, 'SUP014': 0.05405405405405406, 'SUP019': 0.05405405405405406, 'SUP007': 0.05405405405405406, 'SUP015': 0.08108108108108109}\n"
     ]
    }
   ],
   "source": [
    "print(analyzer.centrality())"
   ]
  },
  {
   "cell_type": "code",
   "execution_count": 22,
   "metadata": {},
   "outputs": [],
   "source": [
    "analyzer.visualize(layout=\"kamada_kawai\")"
   ]
  },
  {
   "cell_type": "code",
   "execution_count": null,
   "metadata": {},
   "outputs": [],
   "source": []
  }
 ],
 "metadata": {
  "kernelspec": {
   "display_name": "env",
   "language": "python",
   "name": "python3"
  },
  "language_info": {
   "codemirror_mode": {
    "name": "ipython",
    "version": 3
   },
   "file_extension": ".py",
   "mimetype": "text/x-python",
   "name": "python",
   "nbconvert_exporter": "python",
   "pygments_lexer": "ipython3",
   "version": "3.14.0"
  }
 },
 "nbformat": 4,
 "nbformat_minor": 2
}
